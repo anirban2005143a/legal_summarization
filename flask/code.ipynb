{
 "cells": [
  {
   "cell_type": "code",
   "execution_count": 1,
   "metadata": {
    "_cell_guid": "b1076dfc-b9ad-4769-8c92-a6c4dae69d19",
    "_uuid": "8f2839f25d086af736a60e9eeb907d3b93b6e0e5",
    "execution": {
     "iopub.execute_input": "2025-05-07T21:06:37.971989Z",
     "iopub.status.busy": "2025-05-07T21:06:37.971685Z",
     "iopub.status.idle": "2025-05-07T21:07:00.824518Z",
     "shell.execute_reply": "2025-05-07T21:07:00.823619Z",
     "shell.execute_reply.started": "2025-05-07T21:06:37.971958Z"
    },
    "trusted": true
   },
   "outputs": [],
   "source": [
    "import torch\n",
    "from transformers import T5ForConditionalGeneration, T5Tokenizer, T5Config\n",
    "from safetensors.torch import load_file\n",
    "import torch\n",
    "import os\n",
    "import datasets\n",
    "from tqdm.auto import tqdm"
   ]
  },
  {
   "cell_type": "code",
   "execution_count": 3,
   "metadata": {
    "execution": {
     "iopub.execute_input": "2025-05-07T21:07:00.831378Z",
     "iopub.status.busy": "2025-05-07T21:07:00.831096Z",
     "iopub.status.idle": "2025-05-07T21:07:00.922462Z",
     "shell.execute_reply": "2025-05-07T21:07:00.921592Z",
     "shell.execute_reply.started": "2025-05-07T21:07:00.831355Z"
    },
    "trusted": true
   },
   "outputs": [
    {
     "name": "stdout",
     "output_type": "stream",
     "text": [
      "Using device: cuda\n"
     ]
    }
   ],
   "source": [
    "# Ensure CUDA is available\n",
    "device = \"cuda\" if torch.cuda.is_available() else \"cpu\"\n",
    "print(f\"Using device: {device}\")"
   ]
  },
  {
   "cell_type": "code",
   "execution_count": null,
   "metadata": {
    "execution": {
     "iopub.execute_input": "2025-05-07T21:07:00.924884Z",
     "iopub.status.busy": "2025-05-07T21:07:00.924649Z",
     "iopub.status.idle": "2025-05-07T21:07:00.933621Z",
     "shell.execute_reply": "2025-05-07T21:07:00.932904Z",
     "shell.execute_reply.started": "2025-05-07T21:07:00.924847Z"
    },
    "trusted": true
   },
   "outputs": [],
   "source": [
    "from transformers import AutoTokenizer, AutoModelForSeq2SeqLM\n",
    "\n",
    "tokenizer = AutoTokenizer.from_pretrained(\"satviksh09/PnHLayman\")\n",
    "model = AutoModelForSeq2SeqLM.from_pretrained(\"satviksh09/PnHLayman\")  "
   ]
  },
  {
   "cell_type": "code",
   "execution_count": null,
   "metadata": {
    "execution": {
     "iopub.execute_input": "2025-05-07T21:07:21.877351Z",
     "iopub.status.busy": "2025-05-07T21:07:21.877083Z",
     "iopub.status.idle": "2025-05-07T21:07:21.882138Z",
     "shell.execute_reply": "2025-05-07T21:07:21.881318Z",
     "shell.execute_reply.started": "2025-05-07T21:07:21.877328Z"
    },
    "trusted": true
   },
   "outputs": [],
   "source": [
    "\n",
    "def chunk_text(text, max_length=256):\n",
    "    \"\"\"Splits the input text into chunks of a specified maximum length.\"\"\"\n",
    "    words = text.split()\n",
    "    chunks = []\n",
    "    chunk = []\n",
    "    \n",
    "    for word in words:\n",
    "        chunk.append(word)\n",
    "        if len(chunk) > max_length:\n",
    "            chunks.append(' '.join(chunk[:-1]))\n",
    "            chunk = [chunk[-1]]\n",
    "    if chunk:\n",
    "        chunks.append(' '.join(chunk))\n",
    "    return chunks\n"
   ]
  },
  {
   "cell_type": "code",
   "execution_count": null,
   "metadata": {
    "execution": {
     "iopub.execute_input": "2025-05-07T21:07:21.883412Z",
     "iopub.status.busy": "2025-05-07T21:07:21.883063Z",
     "iopub.status.idle": "2025-05-07T21:07:24.068228Z",
     "shell.execute_reply": "2025-05-07T21:07:24.067353Z",
     "shell.execute_reply.started": "2025-05-07T21:07:21.883382Z"
    },
    "trusted": true
   },
   "outputs": [],
   "source": [
    "\n",
    "def generate_summary(model, tokenizer, case_text, device=\"cuda:0\"):\n",
    "    # Tokenize the input text\n",
    "    chunks = chunk_text(case_text, max_length=1024)\n",
    "\n",
    "    all_summaries = []\n",
    "    \n",
    "    # Generate summary for each chunk\n",
    "    for chunk in chunks:\n",
    "        inputs = tokenizer(chunk, return_tensors=\"pt\", truncation=True, padding=\"longest\", max_length=1024)\n",
    "        inputs = {key: value.to(device) for key, value in inputs.items()}\n",
    "        summary_ids = model.generate(\n",
    "            inputs['input_ids'], \n",
    "            attention_mask=inputs['attention_mask'],\n",
    "            max_new_tokens=128,  # Adjust this as needed\n",
    "            num_beams=8, \n",
    "            early_stopping=True,\n",
    "            pad_token_id=tokenizer.eos_token_id,\n",
    "            eos_token_id=tokenizer.eos_token_id,\n",
    "            no_repeat_ngram_size=3,\n",
    "            length_penalty=0.8\n",
    "        )\n",
    "        \n",
    "        # Decode the summary\n",
    "        summary = tokenizer.decode(summary_ids[0], skip_special_tokens=True)\n",
    "        all_summaries.append(summary)\n",
    "    \n",
    "    # Combine the summaries from each chunk\n",
    "    final_summary = \" \".join(all_summaries)\n",
    "    return final_summary"
   ]
  },
  {
   "cell_type": "code",
   "execution_count": null,
   "metadata": {},
   "outputs": [],
   "source": [
    "# Insert judgment here.\n",
    "\n",
    "case_text = \"\"\"\n",
    "\n",
    "\n",
    "\"\"\"\n",
    "\n",
    "# Load text from a file instead of hardcoding it\n",
    "\n",
    "with open(\"judgment.txt\", \"r\", encoding=\"utf-8\") as f:\n",
    "    case_text = f.read()\n"
   ]
  },
  {
   "cell_type": "code",
   "execution_count": null,
   "metadata": {},
   "outputs": [],
   "source": [
    "summary = generate_summary(model,tokenizer,case_text,device)\n",
    "print(summary)"
   ]
  }
 ],
 "metadata": {
  "kaggle": {
   "accelerator": "nvidiaTeslaT4",
   "dataSources": [
    {
     "datasetId": 6966858,
     "sourceId": 11164405,
     "sourceType": "datasetVersion"
    },
    {
     "datasetId": 7359279,
     "sourceId": 11723304,
     "sourceType": "datasetVersion"
    }
   ],
   "dockerImageVersionId": 30918,
   "isGpuEnabled": true,
   "isInternetEnabled": true,
   "language": "python",
   "sourceType": "notebook"
  },
  "kernelspec": {
   "display_name": "Python 3",
   "language": "python",
   "name": "python3"
  },
  "language_info": {
   "codemirror_mode": {
    "name": "ipython",
    "version": 3
   },
   "file_extension": ".py",
   "mimetype": "text/x-python",
   "name": "python",
   "nbconvert_exporter": "python",
   "pygments_lexer": "ipython3",
   "version": "3.10.12"
  }
 },
 "nbformat": 4,
 "nbformat_minor": 4
}
